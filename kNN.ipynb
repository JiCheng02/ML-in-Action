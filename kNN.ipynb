{
 "cells": [
  {
   "cell_type": "code",
   "execution_count": 1,
   "id": "4b77cf65-3696-453e-8cc3-07d0a6d7fc94",
   "metadata": {},
   "outputs": [],
   "source": [
    "import numpy as np\n",
    "import operator"
   ]
  },
  {
   "cell_type": "code",
   "execution_count": 11,
   "id": "52522e61-a933-4e83-90a2-eefec7b7adce",
   "metadata": {},
   "outputs": [],
   "source": [
    "features = np.array([[1.0, 1.1], [1.0, 1.0], [0, 0], [0, 0.1]])\n",
    "labels = ['A', 'A', 'B', 'B']"
   ]
  },
  {
   "cell_type": "code",
   "execution_count": 101,
   "id": "234c666a-3109-412d-bab2-7edf66d2571d",
   "metadata": {},
   "outputs": [],
   "source": [
    "k = 3\n",
    "X = [0,0]\n",
    "# dataSetSize = features行数\n",
    "dataSetSize = features.shape[0]\n",
    "\n",
    "# 欧式距离公式\n",
    "diffMat = np.tile(X, (dataSetSize, 1)) - features #X从1行铺成 features个数 行\n",
    "sqDiffMat = diffMat ** 2 \n",
    "sqDistances = sqDiffMat.sum(axis=1)\n",
    "distances = sqDistances ** 0.5\n",
    "# argsort()返回按值排序后的下标,默认增序\n",
    "sortedDistIndicies = distances.argsort()\n",
    "\n",
    "classCount = {}\n",
    "for i in range(k):\n",
    "    # 获取第i小的特征的label\n",
    "    voteLabel = labels[sortedDistIndicies[i]]\n",
    "    \n",
    "    classCount[voteLabel] = classCount.get(voteLabel,0) + 1\n",
    "# 对dict按值从小到大排序,\n",
    "soredClassCount = sorted(classCount.items(), key=lambda k:k[1],reverse=True)"
   ]
  },
  {
   "cell_type": "code",
   "execution_count": 102,
   "id": "c4f0a917-4909-4d53-8030-fce6fae91ae3",
   "metadata": {},
   "outputs": [
    {
     "data": {
      "text/plain": [
       "'B'"
      ]
     },
     "execution_count": 102,
     "metadata": {},
     "output_type": "execute_result"
    }
   ],
   "source": [
    "soredClassCount[0][0]"
   ]
  },
  {
   "cell_type": "code",
   "execution_count": null,
   "id": "1a782da0-d77b-4da0-be1e-f215a0243f28",
   "metadata": {},
   "outputs": [],
   "source": []
  }
 ],
 "metadata": {
  "kernelspec": {
   "display_name": "Python 3 (ipykernel)",
   "language": "python",
   "name": "python3"
  },
  "language_info": {
   "codemirror_mode": {
    "name": "ipython",
    "version": 3
   },
   "file_extension": ".py",
   "mimetype": "text/x-python",
   "name": "python",
   "nbconvert_exporter": "python",
   "pygments_lexer": "ipython3",
   "version": "3.8.18"
  }
 },
 "nbformat": 4,
 "nbformat_minor": 5
}
